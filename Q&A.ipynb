{
 "cells": [
  {
   "cell_type": "markdown",
   "metadata": {},
   "source": [
    "5. What is Robocorp Assistant meant for?"
   ]
  },
  {
   "cell_type": "markdown",
   "metadata": {},
   "source": [
    "Ans- Installing Robocorp Workforce Agent on a local machine."
   ]
  },
  {
   "cell_type": "markdown",
   "metadata": {},
   "source": [
    "6. To make your code more readable, you should (choose two):"
   ]
  },
  {
   "cell_type": "markdown",
   "metadata": {},
   "source": [
    "Ans -\n",
    "- Always keep all the robot project code in a single file to avoid the need to navigate multiple files.\n",
    "- Break long lines of code into multiple lines."
   ]
  },
  {
   "cell_type": "markdown",
   "metadata": {},
   "source": [
    "7. In Robot Framework, which notation can you use to split the line and create continuing rows? *"
   ]
  },
  {
   "cell_type": "markdown",
   "metadata": {},
   "source": [
    "Ans - ..."
   ]
  },
  {
   "cell_type": "markdown",
   "metadata": {},
   "source": [
    "8. When should you commit secrets into your repository (choose\n",
    "one)? *"
   ]
  },
  {
   "cell_type": "markdown",
   "metadata": {},
   "source": [
    "Ans - Never."
   ]
  },
  {
   "cell_type": "markdown",
   "metadata": {},
   "source": [
    "9. What is the best way to securely store secrets for your robots (choose one)? *"
   ]
  },
  {
   "cell_type": "markdown",
   "metadata": {},
   "source": [
    "Ans - Inside a Control Room vault."
   ]
  },
  {
   "cell_type": "markdown",
   "metadata": {},
   "source": [
    "10. In Robot Framework, which notation should you use if you want to ignore a line? *"
   ]
  },
  {
   "cell_type": "markdown",
   "metadata": {},
   "source": [
    "Ans - #"
   ]
  },
  {
   "cell_type": "markdown",
   "metadata": {},
   "source": [
    "11. When using RCC, what robot creation command can you use to\n",
    "create a new robot from a template (choose two)? *"
   ]
  },
  {
   "cell_type": "markdown",
   "metadata": {},
   "source": [
    "Ans -\n",
    "- rcc create -standard\n",
    "- rcc robot initialize -t standard"
   ]
  },
  {
   "cell_type": "markdown",
   "metadata": {},
   "source": [
    "12. What library do you need to import to enable logging in Robot Framework? *"
   ]
  },
  {
   "cell_type": "markdown",
   "metadata": {},
   "source": [
    "Ans - RPA.RobotLogListener"
   ]
  },
  {
   "cell_type": "markdown",
   "metadata": {},
   "source": [
    "13. Which libraries can be used to interact with browser-based\n",
    "applications (choose two)? *"
   ]
  },
  {
   "cell_type": "markdown",
   "metadata": {},
   "source": [
    "Ans -\n",
    "- RPA.Browser.Playwright\n",
    "- RPA.Browser.Selenium"
   ]
  },
  {
   "cell_type": "markdown",
   "metadata": {},
   "source": [
    "14. How can you update to the latest version of the RPA Framework?"
   ]
  },
  {
   "cell_type": "markdown",
   "metadata": {},
   "source": [
    "Ans - Update the conda.yaml file."
   ]
  },
  {
   "cell_type": "markdown",
   "metadata": {},
   "source": [
    "15. What RPA Framework keywords can you use to wait for things when automating a web application (choose four)?"
   ]
  },
  {
   "cell_type": "markdown",
   "metadata": {},
   "source": [
    "Ans- \n",
    "- Wait Until Element Is Enabled\n",
    "- Wait Until Element Is Not Visible\n",
    "- Wait Until Network Is Idle\n",
    "- Wait Until Element Contains"
   ]
  },
  {
   "cell_type": "markdown",
   "metadata": {},
   "source": [
    "16. The default output directory can be changed by:"
   ]
  },
  {
   "cell_type": "markdown",
   "metadata": {},
   "source": [
    "Ans - \n",
    "Editing the robot.yaml file."
   ]
  },
  {
   "cell_type": "markdown",
   "metadata": {},
   "source": [
    "17. Copying someone else's robot and claiming it's made by you\n",
    "(choose one):"
   ]
  },
  {
   "cell_type": "markdown",
   "metadata": {},
   "source": [
    "Ans -\n",
    "Would hurt your learning."
   ]
  }
 ],
 "metadata": {
  "kernelspec": {
   "display_name": "Python 3",
   "language": "python",
   "name": "python3"
  },
  "language_info": {
   "name": "python",
   "version": "3.11.2"
  }
 },
 "nbformat": 4,
 "nbformat_minor": 2
}
